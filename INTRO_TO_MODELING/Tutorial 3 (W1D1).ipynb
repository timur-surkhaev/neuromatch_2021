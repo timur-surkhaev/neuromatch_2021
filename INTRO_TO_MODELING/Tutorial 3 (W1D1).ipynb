{
 "cells": [
  {
   "cell_type": "code",
   "execution_count": null,
   "id": "c0377f65",
   "metadata": {},
   "outputs": [],
   "source": [
    "import numpy as np\n",
    "import matplotlib.pyplot as plt\n",
    "from scipy import stats"
   ]
  },
  {
   "cell_type": "code",
   "execution_count": null,
   "id": "2ba57536",
   "metadata": {},
   "outputs": [],
   "source": [
    "#@title Plotting Functions\n",
    "\n",
    "def plot_pmf(pmf,isi_range):\n",
    "    \"\"\"Plot the probability mass function.\"\"\"\n",
    "    ymax = max(0.2, 1.05 * np.max(pmf))\n",
    "    pmf_ = np.insert(pmf, 0, pmf[0])\n",
    "    plt.plot(bins, pmf_, drawstyle=\"steps\")\n",
    "    plt.fill_between(bins, pmf_, step=\"pre\", alpha=0.4)\n",
    "    plt.title(f\"Neuron {neuron_idx}\")\n",
    "    plt.xlabel(\"Inter-spike interval (s)\")\n",
    "    plt.ylabel(\"Probability mass\")\n",
    "    plt.xlim(isi_range);\n",
    "    plt.ylim([0, ymax])"
   ]
  },
  {
   "cell_type": "code",
   "execution_count": null,
   "id": "1cebfd33",
   "metadata": {},
   "outputs": [],
   "source": [
    "#@title Download Data\n",
    "import io\n",
    "import requests\n",
    "r = requests.get('https://osf.io/sy5xt/download')\n",
    "if r.status_code != 200:\n",
    "    print('Could not download data')\n",
    "else:\n",
    "    steinmetz_spikes = np.load(io.BytesIO(r.content), allow_pickle=True)['spike_times']"
   ]
  },
  {
   "cell_type": "code",
   "execution_count": null,
   "id": "ff612443",
   "metadata": {},
   "outputs": [],
   "source": [
    "n_bins = 50  # number of points supporting the distribution\n",
    "x_range = (0, 1)  # will be subdivided evenly into bins corresponding to points\n",
    "\n",
    "bins = np.linspace(*x_range, n_bins + 1)  # bin edges\n",
    "\n",
    "pmf = np.zeros(n_bins)\n",
    "pmf[len(pmf) // 2] = 1.0  # middle point has all the mass\n",
    "\n",
    "# Since we already have a PMF, rather than un-binned samples, `plt.hist` is not\n",
    "# suitable. Instead, we directly plot the PMF as a step function to visualize\n",
    "# the histogram:\n",
    "pmf_ = np.insert(pmf, 0, pmf[0])  # this is necessary to align plot steps with bin edges\n",
    "plt.plot(bins, pmf_, drawstyle=\"steps\")\n",
    "# `fill_between` provides area shading\n",
    "plt.fill_between(bins, pmf_, step=\"pre\", alpha=0.4)\n",
    "plt.xlabel(\"x\")\n",
    "plt.ylabel(\"p(x)\")\n",
    "plt.xlim(x_range)\n",
    "plt.ylim(0, 1);"
   ]
  },
  {
   "cell_type": "code",
   "execution_count": null,
   "id": "a1f8efd5",
   "metadata": {},
   "outputs": [],
   "source": [
    "def entropy(pmf):\n",
    "    \"\"\"Given a discrete distribution, return the Shannon entropy in bits.\n",
    "\n",
    "    This is a measure of information in the distribution. For a totally\n",
    "    deterministic distribution, where samples are always found in the same bin,\n",
    "    then samples from the distribution give no more information and the entropy\n",
    "    is 0.\n",
    "\n",
    "    For now this assumes `pmf` arrives as a well-formed distribution (that is,\n",
    "    `np.sum(pmf)==1` and `not np.any(pmf < 0)`)\n",
    "\n",
    "    Args:\n",
    "    pmf (np.ndarray): The probability mass function for a discrete distribution\n",
    "      represented as an array of probabilities.\n",
    "    Returns:\n",
    "    h (number): The entropy of the distribution in `pmf`.\n",
    "\n",
    "    \"\"\"\n",
    "    ############################################################################\n",
    "    # Exercise for students: compute the entropy of the provided PMF\n",
    "    #   1. Exclude the points in the distribution with no mass (where `pmf==0`).\n",
    "    #      Hint: this is equivalent to including only the points with `pmf>0`.\n",
    "    #   2. Implement the equation for Shannon entropy (in bits).\n",
    "    #  When ready to test, comment or remove the next line\n",
    "    # raise NotImplementedError(\"Excercise: implement the equation for entropy\")\n",
    "    ############################################################################\n",
    "\n",
    "    # reduce to non-zero entries to avoid an error from log2(0)\n",
    "    pmf = pmf[pmf > 0]\n",
    "\n",
    "    # implement the equation for Shannon entropy (in bits)\n",
    "    h = -np.sum(pmf * np.log2(pmf))\n",
    "\n",
    "    # return the absolute value (avoids getting a -0 result)\n",
    "    return np.abs(h)\n",
    "\n",
    "# Call entropy function and print result\n",
    "print(f\"{entropy(pmf):.2f} bits\")"
   ]
  },
  {
   "cell_type": "code",
   "execution_count": null,
   "id": "67ca5c97",
   "metadata": {},
   "outputs": [],
   "source": [
    "# @markdown Execute this cell to visualize another PMF with zero entropy\n",
    "pmf = np.zeros(n_bins)\n",
    "pmf[2] = 1.0  # arbitrary point has all the mass\n",
    "\n",
    "pmf_ = np.insert(pmf, 0, pmf[0])\n",
    "plt.plot(bins, pmf_, drawstyle=\"steps\")\n",
    "plt.fill_between(bins, pmf_, step=\"pre\", alpha=0.4)\n",
    "plt.xlabel(\"x\")\n",
    "plt.ylabel(\"p(x)\")\n",
    "plt.xlim(x_range)\n",
    "plt.ylim(0, 1);"
   ]
  },
  {
   "cell_type": "code",
   "execution_count": null,
   "id": "42b70919",
   "metadata": {},
   "outputs": [],
   "source": [
    "# @markdown Execute this cell to visualize a PMF with split mass\n",
    "\n",
    "pmf = np.zeros(n_bins)\n",
    "pmf[len(pmf) // 3] = 0.5\n",
    "pmf[2 * len(pmf) // 3] = 0.5\n",
    "\n",
    "pmf_ = np.insert(pmf, 0, pmf[0])\n",
    "plt.plot(bins, pmf_, drawstyle=\"steps\")\n",
    "plt.fill_between(bins, pmf_, step=\"pre\", alpha=0.4)\n",
    "plt.xlabel(\"x\")\n",
    "plt.ylabel(\"p(x)\")\n",
    "plt.xlim(x_range)\n",
    "plt.ylim(0, 1);"
   ]
  },
  {
   "cell_type": "code",
   "execution_count": null,
   "id": "fe0e4f33",
   "metadata": {},
   "outputs": [],
   "source": [
    "print(f\"{entropy(pmf):.2f} bits\")"
   ]
  },
  {
   "cell_type": "code",
   "execution_count": null,
   "id": "663c08ce",
   "metadata": {},
   "outputs": [],
   "source": [
    "# @markdown Execute this cell to visualize a PMF of uniform distribution\n",
    "\n",
    "pmf = np.ones(n_bins) / n_bins  # [1/N] * N\n",
    "\n",
    "pmf_ = np.insert(pmf, 0, pmf[0])\n",
    "plt.plot(bins, pmf_, drawstyle=\"steps\")\n",
    "plt.fill_between(bins, pmf_, step=\"pre\", alpha=0.4)\n",
    "plt.xlabel(\"x\")\n",
    "plt.ylabel(\"p(x)\")\n",
    "plt.xlim(x_range);\n",
    "plt.ylim(0, 1);"
   ]
  },
  {
   "cell_type": "code",
   "execution_count": null,
   "id": "8ee409e1",
   "metadata": {},
   "outputs": [],
   "source": [
    "print(f\"{entropy(pmf):.2f} bits\")"
   ]
  },
  {
   "cell_type": "code",
   "execution_count": null,
   "id": "669f47ff",
   "metadata": {},
   "outputs": [],
   "source": [
    "n_bins = 50\n",
    "mean_isi = 0.025\n",
    "isi_range = (0, 0.25)\n",
    "\n",
    "bins = np.linspace(*isi_range, n_bins + 1)\n",
    "mean_idx = np.searchsorted(bins, mean_isi)\n",
    "\n",
    "# 1. all mass concentrated on the ISI mean\n",
    "pmf_single = np.zeros(n_bins)\n",
    "pmf_single[mean_idx] = 1.0\n",
    "\n",
    "# 2. mass uniformly distributed about the ISI mean\n",
    "pmf_uniform = np.zeros(n_bins)\n",
    "pmf_uniform[0:2*mean_idx] = 1 / (2 * mean_idx)\n",
    "\n",
    "# 3. mass exponentially distributed about the ISI mean\n",
    "pmf_exp = stats.expon.pdf(bins[1:], scale=mean_isi)\n",
    "pmf_exp /= np.sum(pmf_exp)"
   ]
  },
  {
   "cell_type": "code",
   "execution_count": null,
   "id": "18fd1f76",
   "metadata": {},
   "outputs": [],
   "source": [
    "#@title\n",
    "#@markdown Run this cell to plot the three PMFs\n",
    "fig, axes = plt.subplots(ncols=3, figsize=(18, 5))\n",
    "\n",
    "dists =  [# (subplot title, pmf, ylim)\n",
    "          (\"(1) Deterministic\", pmf_single, (0, 1.05)),\n",
    "          (\"(1) Uniform\", pmf_uniform, (0, 1.05)),\n",
    "          (\"(1) Exponential\", pmf_exp, (0, 1.05))]\n",
    "\n",
    "for ax, (label, pmf_, ylim) in zip(axes, dists):\n",
    "    pmf_ = np.insert(pmf_, 0, pmf_[0])\n",
    "    ax.plot(bins, pmf_, drawstyle=\"steps\")\n",
    "    ax.fill_between(bins, pmf_, step=\"pre\", alpha=0.4)\n",
    "    ax.set_title(label)\n",
    "    ax.set_xlabel(\"Inter-spike interval (s)\")\n",
    "    ax.set_ylabel(\"Probability mass\")\n",
    "    ax.set_xlim(isi_range);\n",
    "    ax.set_ylim(ylim);"
   ]
  },
  {
   "cell_type": "code",
   "execution_count": null,
   "id": "d3e86c70",
   "metadata": {},
   "outputs": [],
   "source": [
    "print(\n",
    "  f\"Deterministic: {entropy(pmf_single):.2f} bits\",\n",
    "  f\"Uniform: {entropy(pmf_uniform):.2f} bits\",\n",
    "  f\"Exponential: {entropy(pmf_exp):.2f} bits\",\n",
    "  sep=\"\\n\",\n",
    ")"
   ]
  },
  {
   "cell_type": "code",
   "execution_count": null,
   "id": "798b13e7",
   "metadata": {},
   "outputs": [],
   "source": [
    "def pmf_from_counts(counts):\n",
    "    \"\"\"Given counts, normalize by the total to estimate probabilities.\"\"\"\n",
    "    ###########################################################################\n",
    "    # Exercise: Compute the PMF. Remove the next line to test your function\n",
    "    # raise NotImplementedError(\"Student excercise: compute the PMF from ISI counts\")\n",
    "    ###########################################################################\n",
    "\n",
    "    pmf = counts/np.sum(counts)\n",
    "\n",
    "    return pmf\n",
    "\n",
    "\n",
    "# Get neuron index\n",
    "neuron_idx = 283\n",
    "\n",
    "# Get counts of ISIs from Steinmetz data\n",
    "isi = np.diff(steinmetz_spikes[neuron_idx])\n",
    "bins = np.linspace(*isi_range, n_bins + 1)\n",
    "counts, _ = np.histogram(isi, bins)\n",
    "\n",
    "# Compute pmf\n",
    "pmf = pmf_from_counts(counts)\n",
    "\n",
    "# Visualize\n",
    "plot_pmf(pmf,isi_range)"
   ]
  },
  {
   "cell_type": "code",
   "execution_count": null,
   "id": "da02cd1c",
   "metadata": {},
   "outputs": [],
   "source": [
    "print(f\"Entropy for Neuron {neuron_idx}: {entropy(pmf):.2f} bits\")"
   ]
  },
  {
   "cell_type": "code",
   "execution_count": null,
   "id": "c8aaa69c",
   "metadata": {},
   "outputs": [],
   "source": [
    "#@title\n",
    "#@markdown **Run the cell** to enable the sliders.\n",
    "\n",
    "def _pmf_from_counts(counts):\n",
    "    \"\"\"Given counts, normalize by the total to estimate probabilities.\"\"\"\n",
    "    pmf = counts / np.sum(counts)\n",
    "    return pmf\n",
    "\n",
    "def _entropy(pmf):\n",
    "    \"\"\"Given a discrete distribution, return the Shannon entropy in bits.\"\"\"\n",
    "    # remove non-zero entries to avoid an error from log2(0)\n",
    "    pmf = pmf[pmf > 0]\n",
    "    h = -np.sum(pmf * np.log2(pmf))\n",
    "    # absolute value applied to avoid getting a -0 result\n",
    "    return np.abs(h)\n",
    "\n",
    "@widgets.interact(neuron=widgets.IntSlider(0, min=0, max=(len(steinmetz_spikes)-1)))\n",
    "def steinmetz_pmf(neuron):\n",
    "    \"\"\" Given a neuron from the Steinmetz data, compute its PMF and entropy \"\"\"\n",
    "    isi = np.diff(steinmetz_spikes[neuron])\n",
    "    bins = np.linspace(*isi_range, n_bins + 1)\n",
    "    counts, _ = np.histogram(isi, bins)\n",
    "    pmf = _pmf_from_counts(counts)\n",
    "\n",
    "    plot_pmf(pmf,isi_range)\n",
    "    plt.title(f\"Neuron {neuron}: H = {_entropy(pmf):.2f} bits\")"
   ]
  },
  {
   "cell_type": "code",
   "execution_count": null,
   "id": "a9d4ef67",
   "metadata": {},
   "outputs": [],
   "source": []
  }
 ],
 "metadata": {
  "kernelspec": {
   "display_name": "Python 3",
   "language": "python",
   "name": "python3"
  },
  "language_info": {
   "codemirror_mode": {
    "name": "ipython",
    "version": 3
   },
   "file_extension": ".py",
   "mimetype": "text/x-python",
   "name": "python",
   "nbconvert_exporter": "python",
   "pygments_lexer": "ipython3",
   "version": "3.8.8"
  }
 },
 "nbformat": 4,
 "nbformat_minor": 5
}
