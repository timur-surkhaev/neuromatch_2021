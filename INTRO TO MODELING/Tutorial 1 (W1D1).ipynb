{
 "cells": [
  {
   "cell_type": "code",
   "execution_count": null,
   "metadata": {},
   "outputs": [],
   "source": [
    "import numpy as np\n",
    "import matplotlib.pyplot as plt"
   ]
  },
  {
   "cell_type": "code",
   "execution_count": null,
   "metadata": {},
   "outputs": [],
   "source": [
    "# @title Figure Settings\n",
    "import ipywidgets as widgets #interactive display\n",
    "\n",
    "%matplotlib inline\n",
    "%config InlineBackend.figure_format = 'retina'\n",
    "plt.style.use(\"https://raw.githubusercontent.com/NeuromatchAcademy/course-content/master/nma.mplstyle\")"
   ]
  },
  {
   "cell_type": "code",
   "execution_count": null,
   "metadata": {},
   "outputs": [],
   "source": [
    "# @title Plotting functions\n",
    "\n",
    "def plot_isis(single_neuron_isis):\n",
    "    plt.hist(single_neuron_isis, bins=50, histtype=\"stepfilled\")\n",
    "    plt.axvline(single_neuron_isis.mean(), color=\"orange\", label=\"Mean ISI\")\n",
    "    plt.xlabel(\"ISI duration (s)\")\n",
    "    plt.ylabel(\"Number of spikes\")\n",
    "    plt.legend()"
   ]
  },
  {
   "cell_type": "code",
   "execution_count": null,
   "metadata": {},
   "outputs": [],
   "source": [
    "#@title Data retrieval\n",
    "#@markdown This cell downloads the example dataset that we will use in this tutorial.\n",
    "import io\n",
    "import requests\n",
    "r = requests.get('https://osf.io/sy5xt/download')\n",
    "if r.status_code != 200:\n",
    "    print('Failed to download data')\n",
    "else:\n",
    "    spike_times = np.load(io.BytesIO(r.content), allow_pickle=True)['spike_times']"
   ]
  },
  {
   "cell_type": "code",
   "execution_count": null,
   "metadata": {},
   "outputs": [],
   "source": [
    "type(spike_times)\n",
    "spike_times.shape"
   ]
  },
  {
   "cell_type": "code",
   "execution_count": null,
   "metadata": {},
   "outputs": [],
   "source": [
    "idx = 0\n",
    "print(\n",
    "  type(spike_times[idx]),\n",
    "  spike_times[idx].shape,\n",
    "  sep=\"\\n\",\n",
    ")"
   ]
  },
  {
   "cell_type": "code",
   "execution_count": null,
   "metadata": {},
   "outputs": [],
   "source": [
    "idx = 321\n",
    "print(\n",
    "  type(spike_times[idx]),\n",
    "  spike_times[idx].shape,\n",
    "  sep=\"\\n\",\n",
    ")"
   ]
  },
  {
   "cell_type": "code",
   "execution_count": null,
   "metadata": {},
   "outputs": [],
   "source": [
    "i_neurons = [0, 321]\n",
    "i_print = slice(0, 5)\n",
    "\n",
    "for i in i_neurons:\n",
    "    print(\n",
    "        \"Neuron {}:\".format(i),\n",
    "        spike_times[i].dtype,\n",
    "        spike_times[i][i_print],\n",
    "        \"\\n\",\n",
    "        sep=\"\\n\"\n",
    "    )"
   ]
  },
  {
   "cell_type": "code",
   "execution_count": null,
   "metadata": {},
   "outputs": [],
   "source": [
    "n_neurons = len(spike_times)\n",
    "total_spikes_per_neuron = [len(spike_times_i) for spike_times_i in spike_times]\n",
    "\n",
    "print(f\"Number of neurons: {n_neurons}\")\n",
    "print(f\"Number of spikes for first five neurons: {total_spikes_per_neuron[:5]}\")"
   ]
  },
  {
   "cell_type": "code",
   "execution_count": null,
   "metadata": {},
   "outputs": [],
   "source": [
    "plt.hist(total_spikes_per_neuron, bins=50, histtype=\"stepfilled\")\n",
    "plt.xlabel(\"Total spikes per neuron\")\n",
    "plt.ylabel(\"Number of neurons\");"
   ]
  },
  {
   "cell_type": "code",
   "execution_count": null,
   "metadata": {},
   "outputs": [],
   "source": [
    "mean_spike_count = np.mean(total_spikes_per_neuron)\n",
    "frac_below_mean = (total_spikes_per_neuron < mean_spike_count).mean()\n",
    "print(f\"{frac_below_mean:2.1%} of neurons are below the mean\")"
   ]
  },
  {
   "cell_type": "code",
   "execution_count": null,
   "metadata": {},
   "outputs": [],
   "source": [
    "plt.hist(total_spikes_per_neuron, bins=50, histtype=\"stepfilled\")\n",
    "plt.xlabel(\"Total spikes per neuron\")\n",
    "plt.ylabel(\"Number of neurons\")\n",
    "plt.axvline(mean_spike_count, color=\"orange\", label=\"Mean neuron\")\n",
    "plt.legend();"
   ]
  },
  {
   "cell_type": "code",
   "execution_count": null,
   "metadata": {},
   "outputs": [],
   "source": [
    "# Compute median spike count\n",
    "median_spike_count = np.median(total_spikes_per_neuron)  # Hint: Try the function np.median\n",
    "\n",
    "# Visualize median, mean, and histogram\n",
    "with plt.xkcd():\n",
    "    plt.hist(total_spikes_per_neuron, bins=50, histtype=\"stepfilled\")\n",
    "    plt.axvline(median_spike_count, color=\"limegreen\", label=\"Median neuron\")\n",
    "    plt.axvline(mean_spike_count, color=\"orange\", label=\"Mean neuron\")\n",
    "    plt.xlabel(\"Total spikes per neuron\")\n",
    "    plt.ylabel(\"Number of neurons\")\n",
    "    plt.legend()"
   ]
  },
  {
   "cell_type": "code",
   "execution_count": null,
   "metadata": {},
   "outputs": [],
   "source": [
    "# @markdown Execute this cell for helper function `restrict_spike_times`\n",
    "def restrict_spike_times(spike_times, interval):\n",
    "    \"\"\"Given a spike_time dataset, restrict to spikes within given interval.\n",
    "\n",
    "    Args:\n",
    "    spike_times (sequence of np.ndarray): List or array of arrays,\n",
    "        each inner array has spike times for a single neuron.\n",
    "    interval (tuple): Min, max time values; keep min <= t < max.\n",
    "\n",
    "    Returns:\n",
    "    np.ndarray: like `spike_times`, but only within `interval`\n",
    "    \"\"\"\n",
    "    interval_spike_times = []\n",
    "    for spikes in spike_times:\n",
    "        interval_mask = (spikes >= interval[0]) & (spikes < interval[1])\n",
    "        interval_spike_times.append(spikes[interval_mask])\n",
    "    return np.array(interval_spike_times, object)"
   ]
  },
  {
   "cell_type": "code",
   "execution_count": null,
   "metadata": {},
   "outputs": [],
   "source": [
    "t_interval = (0, 100)  # units are seconds after start of recording\n",
    "interval_spike_times = restrict_spike_times(spike_times, t_interval)\n",
    "\n",
    "original_counts = sum([len(spikes) for spikes in spike_times])\n",
    "interval_counts = sum([len(spikes) for spikes in interval_spike_times])\n",
    "frac_interval_spikes = interval_counts / original_counts\n",
    "print(f\"{frac_interval_spikes:.2%} of the total spikes are in the interval\")"
   ]
  },
  {
   "cell_type": "code",
   "execution_count": null,
   "metadata": {},
   "outputs": [],
   "source": [
    "neuron_idx = 1\n",
    "plt.eventplot(interval_spike_times[neuron_idx], color=\".2\")\n",
    "plt.xlabel(\"Time (s)\")\n",
    "plt.yticks([]);\n"
   ]
  },
  {
   "cell_type": "code",
   "execution_count": null,
   "metadata": {},
   "outputs": [],
   "source": [
    "neuron_idx = [1, 11, 51]\n",
    "plt.eventplot(interval_spike_times[neuron_idx], color=\".2\")\n",
    "plt.xlabel(\"Time (s)\")\n",
    "plt.yticks([]);"
   ]
  },
  {
   "cell_type": "code",
   "execution_count": null,
   "metadata": {},
   "outputs": [],
   "source": [
    "neuron_idx = np.arange(0, len(spike_times), 5)\n",
    "plt.eventplot(interval_spike_times[neuron_idx], color=\".2\")\n",
    "plt.xlabel(\"Time (s)\")\n",
    "plt.yticks([]);"
   ]
  },
  {
   "cell_type": "code",
   "execution_count": null,
   "metadata": {},
   "outputs": [],
   "source": [
    "def compute_single_neuron_isis(spike_times, neuron_idx):\n",
    "    \"\"\"Compute a vector of ISIs for a single neuron given spike times.\n",
    "    Args:\n",
    "        spike_times (list of 1D arrays): Spike time dataset, with the first\n",
    "            dimension corresponding to different neurons.\n",
    "        neuron_idx (int): Index of the unit to compute ISIs for.\n",
    "    Returns:\n",
    "    isis (1D array): Duration of time between each spike from one neuron.\n",
    "    \"\"\"\n",
    "    # Extract the spike times for the specified neuron\n",
    "    single_neuron_spikes = spike_times[neuron_idx]\n",
    "\n",
    "    # Compute the ISIs for this set of spikes\n",
    "    # Hint: the function np.diff computes discrete differences along an array\n",
    "    isis = np.diff(single_neuron_spikes)\n",
    "\n",
    "    return isis\n",
    "\n",
    "# Compute ISIs\n",
    "single_neuron_isis = compute_single_neuron_isis(spike_times, neuron_idx=283)\n",
    "\n",
    "# Visualize ISIs\n",
    "with plt.xkcd():\n",
    "    plot_isis(single_neuron_isis)"
   ]
  },
  {
   "cell_type": "code",
   "execution_count": null,
   "metadata": {},
   "outputs": [],
   "source": [
    "def exponential(xs, scale, rate, x0):\n",
    "    \"\"\"A simple parametrized exponential function, applied element-wise.\n",
    "\n",
    "    Args:\n",
    "        xs (np.ndarray or float): Input(s) to the function.\n",
    "        scale (float): Linear scaling factor.\n",
    "        rate (float): Exponential growth (positive) or decay (negative) rate.\n",
    "        x0 (float): Horizontal offset.\n",
    "\n",
    "    \"\"\"\n",
    "    ys = scale * np.exp(rate * (xs - x0))\n",
    "    return ys\n",
    "\n",
    "def inverse(xs, scale, x0):\n",
    "    \"\"\"A simple parametrized inverse function (`1/x`), applied element-wise.\n",
    "\n",
    "    Args:\n",
    "        xs (np.ndarray or float): Input(s) to the function.\n",
    "        scale (float): Linear scaling factor.\n",
    "        x0 (float): Horizontal offset.\n",
    "\n",
    "    \"\"\"\n",
    "    ys = scale / (xs - x0)\n",
    "    return ys\n",
    "\n",
    "def linear(xs, slope, y0):\n",
    "    \"\"\"A simple linear function, applied element-wise.\n",
    "\n",
    "    Args:\n",
    "        xs (np.ndarray or float): Input(s) to the function.\n",
    "        slope (float): Slope of the line.\n",
    "        y0 (float): y-intercept of the line.\n",
    "\n",
    "    \"\"\"\n",
    "    ys = slope * xs + y0\n",
    "    return ys"
   ]
  },
  {
   "cell_type": "code",
   "execution_count": null,
   "metadata": {},
   "outputs": [],
   "source": [
    "#@title\n",
    "\n",
    "#@markdown Be sure to run this cell to enable the demo\n",
    "# Don't worry about understanding this code! It's to setup an interactive plot.\n",
    "single_neuron_idx = 283\n",
    "single_neuron_spikes = spike_times[single_neuron_idx]\n",
    "single_neuron_isis = np.diff(single_neuron_spikes)\n",
    "\n",
    "counts, edges = np.histogram(\n",
    "    single_neuron_isis,\n",
    "    bins=50,\n",
    "    range=(0, single_neuron_isis.max())\n",
    ")\n",
    "\n",
    "functions = dict(\n",
    "    exponential=exponential,\n",
    "    inverse=inverse,\n",
    "    linear=linear,\n",
    ")\n",
    "\n",
    "colors = dict(\n",
    "    exponential=\"C1\",\n",
    "    inverse=\"C2\",\n",
    "    linear=\"C4\",\n",
    ")\n",
    "\n",
    "@widgets.interact(\n",
    "    exp_scale=widgets.FloatSlider(1000, min=0, max=20000, step=250),\n",
    "    exp_rate=widgets.FloatSlider(-10, min=-200, max=50, step=1),\n",
    "    exp_x0=widgets.FloatSlider(0.1, min=-0.5, max=0.5, step=0.005),\n",
    "    inv_scale=widgets.FloatSlider(1000, min=0, max=3e2, step=10),\n",
    "    inv_x0=widgets.FloatSlider(0, min=-0.2, max=0.2, step=0.01),\n",
    "    lin_slope=widgets.FloatSlider(-1e5, min=-6e5, max=1e5, step=10000),\n",
    "    lin_y0=widgets.FloatSlider(10000, min=0, max=4e4, step=1000),\n",
    ")\n",
    "def fit_plot(\n",
    "    exp_scale=1000, exp_rate=-10, exp_x0=0.1,\n",
    "    inv_scale=1000, inv_x0=0,\n",
    "    lin_slope=-1e5, lin_y0=2000,\n",
    "):\n",
    "    \"\"\"Helper function for plotting function fits with interactive sliders.\"\"\"\n",
    "    func_params = dict(\n",
    "        exponential=(exp_scale, exp_rate, exp_x0),\n",
    "        inverse=(inv_scale, inv_x0),\n",
    "        linear=(lin_slope, lin_y0),\n",
    "    )\n",
    "    f, ax = plt.subplots()\n",
    "    ax.fill_between(edges[:-1], counts, step=\"post\", alpha=.5)\n",
    "    xs = np.linspace(1e-10, edges.max())\n",
    "    for name, function in functions.items():\n",
    "        ys = function(xs, *func_params[name])\n",
    "        ax.plot(xs, ys, lw=3, color=colors[name], label=name);\n",
    "    ax.set(\n",
    "        xlim=(edges.min(), edges.max()),\n",
    "        ylim=(0, counts.max() * 1.1),\n",
    "        xlabel=\"ISI (s)\",\n",
    "        ylabel=\"Number of spikes\",\n",
    "    )\n",
    "    ax.legend()"
   ]
  }
 ],
 "metadata": {
  "kernelspec": {
   "display_name": "Python 3",
   "language": "python",
   "name": "python3"
  },
  "language_info": {
   "codemirror_mode": {
    "name": "ipython",
    "version": 3
   },
   "file_extension": ".py",
   "mimetype": "text/x-python",
   "name": "python",
   "nbconvert_exporter": "python",
   "pygments_lexer": "ipython3",
   "version": "3.7.3"
  }
 },
 "nbformat": 4,
 "nbformat_minor": 4
}
